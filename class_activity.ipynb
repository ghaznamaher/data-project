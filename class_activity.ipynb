{
  "nbformat": 4,
  "nbformat_minor": 0,
  "metadata": {
    "colab": {
      "provenance": []
    },
    "kernelspec": {
      "name": "python3",
      "display_name": "Python 3"
    },
    "language_info": {
      "name": "python"
    }
  },
  "cells": [
    {
      "cell_type": "markdown",
      "source": [
        "Problem:\n",
        "\n",
        "Given a list of integers, return the largest difference between any two elements, where the larger element appears after the smaller one. If no such pair exists, return 0."
      ],
      "metadata": {
        "id": "0unJeNF0EqyR"
      }
    },
    {
      "cell_type": "code",
      "source": [
        "def largest_diff(nums):\n",
        "    if not nums or len(nums) < 2: # if list is empty or value is only 1.\n",
        "        return 0\n",
        "\n",
        "    min = nums[0] # keeping first value as start point\n",
        "    max_diff = 0 # keeping first difference as 0\n",
        "\n",
        "    for num in nums[1:]:\n",
        "        if num > min:\n",
        "            max_diff = max(max_diff, num - min) # if new diff is bigger than 0\n",
        "        else:\n",
        "            min= min(min, num) #replace min with new num for next diff\n",
        "\n",
        "    return max_diff\n"
      ],
      "metadata": {
        "id": "J5iB7v1ZEwWq"
      },
      "execution_count": 1,
      "outputs": []
    },
    {
      "cell_type": "code",
      "source": [
        "largest_diff([1,2,3,4,5])"
      ],
      "metadata": {
        "colab": {
          "base_uri": "https://localhost:8080/"
        },
        "id": "yAUroqlcFuld",
        "outputId": "c2ed0ffb-48b3-4e1c-f032-e78c6b85919f"
      },
      "execution_count": 2,
      "outputs": [
        {
          "output_type": "execute_result",
          "data": {
            "text/plain": [
              "4"
            ]
          },
          "metadata": {},
          "execution_count": 2
        }
      ]
    },
    {
      "cell_type": "markdown",
      "source": [
        "First Non-Repeating Character Problem: Given a string, return the first non-repeating character. If there are no non-repeating characters, return None."
      ],
      "metadata": {
        "id": "Y4re6h1pFyxh"
      }
    },
    {
      "cell_type": "code",
      "source": [
        "def non_repeating_char(x):\n",
        "    char_count = {} #created empty dict to story character with it's rescpective count\n",
        "\n",
        "\n",
        "    for char in x:\n",
        "        if char in char_count:\n",
        "            char_count[char] += 1 # add 1 if it exist in dict\n",
        "        else:\n",
        "            char_count[char] = 1 # if nt then add it as a new entry\n",
        "\n",
        "    for char in x:\n",
        "        if char_count[char] == 1: # after the first loop is complete lets check which character have count equals to 1\n",
        "            return char\n",
        "\n",
        "    return None\n"
      ],
      "metadata": {
        "id": "WQ5zl_R9F24r"
      },
      "execution_count": 2,
      "outputs": []
    },
    {
      "cell_type": "code",
      "source": [
        "non_repeating_char(\"abcabd\")"
      ],
      "metadata": {
        "colab": {
          "base_uri": "https://localhost:8080/",
          "height": 35
        },
        "id": "3zgzG-Kgrnhq",
        "outputId": "0c88f455-fdf6-4975-b313-849dd1c6ea38"
      },
      "execution_count": 3,
      "outputs": [
        {
          "output_type": "execute_result",
          "data": {
            "text/plain": [
              "'c'"
            ],
            "application/vnd.google.colaboratory.intrinsic+json": {
              "type": "string"
            }
          },
          "metadata": {},
          "execution_count": 3
        }
      ]
    },
    {
      "cell_type": "markdown",
      "source": [
        "Given two strings,write a function to check if one is a permutation of the other. Return True if they are permutations,False otherwise"
      ],
      "metadata": {
        "id": "ASoSCYd4rg2c"
      }
    },
    {
      "cell_type": "code",
      "execution_count": 1,
      "metadata": {
        "id": "2W-WwAFJO1ol"
      },
      "outputs": [],
      "source": [
        "def permutations(str1,str2):\n",
        "  if len(str1) != len(str2): # if both str are not equal in length, dunction ends here\n",
        "    return False\n",
        "  char_count1={}   # crerated empty dictionaries for each character count in both strings\n",
        "  char_count2={}\n",
        "  for char in str1:\n",
        "    char_count1[char]=char_count1.get(char,0)+1 # if the character will exist , it will add one to it otherwise create a new entry\n",
        "  for char in str2:\n",
        "    char_count2[char]=char_count2.get(char,0)+1\n",
        "  return char_count1==char_count2"
      ]
    },
    {
      "cell_type": "code",
      "source": [
        "permutations(\"aba\",\"baan\")"
      ],
      "metadata": {
        "colab": {
          "base_uri": "https://localhost:8080/"
        },
        "id": "rbiKDFfiBdNI",
        "outputId": "38db5005-4dce-43e1-fab7-ea192f30853f"
      },
      "execution_count": 3,
      "outputs": [
        {
          "output_type": "execute_result",
          "data": {
            "text/plain": [
              "False"
            ]
          },
          "metadata": {},
          "execution_count": 3
        }
      ]
    },
    {
      "cell_type": "code",
      "source": [
        "def permutation(a,b):\n",
        "  if len(a)!=len(b):\n",
        "    return False\n",
        "\n",
        "  return  sorted(a)==sorted(b)\n"
      ],
      "metadata": {
        "id": "ygjIeHpGBpWr"
      },
      "execution_count": 6,
      "outputs": []
    },
    {
      "cell_type": "code",
      "source": [
        "permutation(\"daad\",\"adad\")"
      ],
      "metadata": {
        "colab": {
          "base_uri": "https://localhost:8080/"
        },
        "id": "bt4oJGrFCDAf",
        "outputId": "0bfeec19-1cfd-4bfa-a38f-e3116404a90d"
      },
      "execution_count": 7,
      "outputs": [
        {
          "output_type": "execute_result",
          "data": {
            "text/plain": [
              "True"
            ]
          },
          "metadata": {},
          "execution_count": 7
        }
      ]
    },
    {
      "cell_type": "markdown",
      "source": [
        "Problem: Given a list of integers, return the second largest unique number. If no second largest unique number exists, return None. Example: Input: [4, 5, 6, 6, 7] Output: 6 Explanation: The second largest unique number is 6."
      ],
      "metadata": {
        "id": "snFkTgZPHJA5"
      }
    },
    {
      "cell_type": "code",
      "source": [
        "def second_largest_unique(nums):\n",
        "  unique={}\n",
        "  for num in nums:\n",
        "    unique[num]=unique.get(num,0)+1 # added all character with it's respective count in unique dict\n",
        "  unique2=[x for x in unique if unique[x]==1] # created another dict for the characters whose value is 1\n",
        "  unique2.sort(reverse=True) # to sort in descending order\n",
        "  if len(unique2)>=2:\n",
        "    return unique2[1]\n",
        "  else:\n",
        "    return None\n"
      ],
      "metadata": {
        "id": "WsMPa-bhHISR"
      },
      "execution_count": 10,
      "outputs": []
    },
    {
      "cell_type": "code",
      "source": [
        "second_largest_unique([4, 5, 6, 6, 7])"
      ],
      "metadata": {
        "colab": {
          "base_uri": "https://localhost:8080/"
        },
        "id": "p8lrpJi4IiOR",
        "outputId": "9d3d9f79-9d93-4f4a-aa73-91cfbcbedb3b"
      },
      "execution_count": 11,
      "outputs": [
        {
          "output_type": "execute_result",
          "data": {
            "text/plain": [
              "5"
            ]
          },
          "metadata": {},
          "execution_count": 11
        }
      ]
    },
    {
      "cell_type": "markdown",
      "source": [
        "Count Distinct Pairs Problem: Given a list of integers and a target sum, count how many distinct pairs of integers in the list sum up to the target.\n",
        "\n",
        "[ ]\n"
      ],
      "metadata": {
        "id": "pPw0e--WI1eB"
      }
    },
    {
      "cell_type": "code",
      "source": [
        "def distinct_pairs(x,target):\n",
        "  seen=set()  # set of numbers we have seen\n",
        "  distinct_pair=set() # sets for all pairs\n",
        "\n",
        "  for num in x:\n",
        "    diff=target-num\n",
        "    if diff in seen: # if the difference b/w target and num is present in seen, make a pair of it\n",
        "      distinct_pair.add(tuple(sorted((diff,num)))) # sorted to avoid duplicates and tuple, as set can't hold mutable items like list\n",
        "    seen.add(num)\n",
        "\n",
        "  return len(distinct_pair)\n",
        "\n",
        ""
      ],
      "metadata": {
        "id": "UkSckuigCCMr"
      },
      "execution_count": 18,
      "outputs": []
    },
    {
      "cell_type": "code",
      "source": [
        "distinct_pairs([1, 2, 3, 4, 3, 6], 6)"
      ],
      "metadata": {
        "colab": {
          "base_uri": "https://localhost:8080/"
        },
        "id": "zYEAD1xwRhPv",
        "outputId": "40cd35d1-7d79-454b-e444-a222ecd2898e"
      },
      "execution_count": 19,
      "outputs": [
        {
          "output_type": "execute_result",
          "data": {
            "text/plain": [
              "2"
            ]
          },
          "metadata": {},
          "execution_count": 19
        }
      ]
    },
    {
      "cell_type": "markdown",
      "source": [
        "Remove Duplicates from List Problem: Given a list of integers, remove all duplicates while maintaining the order of their first occurrence."
      ],
      "metadata": {
        "id": "521WVHtqSgFv"
      }
    },
    {
      "cell_type": "code",
      "source": [
        "def remove_duplicates(nums):\n",
        "  seen=set() #set,since set only holds unique  items\n",
        "  result=[]\n",
        "\n",
        "  for num in nums:\n",
        "    if num not in  seen:\n",
        "      seen.add(num)  #add,since sets are not in order and can't have duplicates\n",
        "      result.append(num)\n",
        "  return result\n"
      ],
      "metadata": {
        "id": "KS3Oq0zTWDW0"
      },
      "execution_count": 20,
      "outputs": []
    },
    {
      "cell_type": "code",
      "source": [
        "remove_duplicates([1, 2, 3, 2, 4, 3, 5])"
      ],
      "metadata": {
        "colab": {
          "base_uri": "https://localhost:8080/"
        },
        "id": "aD6_Pqz2XKrc",
        "outputId": "96a0d669-aa5e-4754-ecb4-9a42f935d320"
      },
      "execution_count": 21,
      "outputs": [
        {
          "output_type": "execute_result",
          "data": {
            "text/plain": [
              "[1, 2, 3, 4, 5]"
            ]
          },
          "metadata": {},
          "execution_count": 21
        }
      ]
    },
    {
      "cell_type": "markdown",
      "source": [
        "Subsets of a List Problem: Given a list of integers, return all possible subsets (the power set) of the list."
      ],
      "metadata": {
        "id": "S1UaWo4uXdRZ"
      }
    },
    {
      "cell_type": "code",
      "source": [
        "def subsets(nums):\n",
        "  result=[[]] # set initial list with an emtpy sub set\n",
        "\n",
        "  for num in nums:\n",
        "    subset=[char+[num] for char in result] # []+[1]=[1]\n",
        "    result.extend(subset)\n",
        "  return result"
      ],
      "metadata": {
        "id": "Yf74GKIOdTtH"
      },
      "execution_count": 24,
      "outputs": []
    },
    {
      "cell_type": "code",
      "source": [
        "subsets([1,2,3])"
      ],
      "metadata": {
        "colab": {
          "base_uri": "https://localhost:8080/"
        },
        "id": "o29auVMzds9m",
        "outputId": "60932bb5-6005-4871-b2fe-66463519f2d0"
      },
      "execution_count": 25,
      "outputs": [
        {
          "output_type": "execute_result",
          "data": {
            "text/plain": [
              "[[], [1], [2], [1, 2], [3], [1, 3], [2, 3], [1, 2, 3]]"
            ]
          },
          "metadata": {},
          "execution_count": 25
        }
      ]
    },
    {
      "cell_type": "markdown",
      "source": [
        "Longest Increasing Subsequence Problem: Given a list of integers, find the length of the longest subsequence of strictly increasing elements.\n"
      ],
      "metadata": {
        "id": "ILrjHdYdhily"
      }
    },
    {
      "cell_type": "code",
      "source": [
        "def length_of_lis(nums):\n",
        "    if not nums:\n",
        "        return 0\n",
        "\n",
        "    n = len(nums)\n",
        "    dp = [1] * n\n",
        "\n",
        "    for i in range(1, n):\n",
        "        for j in range(i):\n",
        "            if nums[j] < nums[i]:\n",
        "\n",
        "                dp[i] = max(dp[i], dp[j] + 1)\n",
        "\n",
        "    return max(dp)"
      ],
      "metadata": {
        "id": "b1E-4kNUheQ6"
      },
      "execution_count": null,
      "outputs": []
    },
    {
      "cell_type": "markdown",
      "source": [
        "Maximum Product of Two Numbers Problem: Given a list of integers, return the maximum product of any two numbers in the list.\n"
      ],
      "metadata": {
        "id": "lbcTdZMLkCc-"
      }
    },
    {
      "cell_type": "code",
      "source": [
        "def max_product(num):\n",
        "  num.sort()\n",
        "  sum1=num[-1]*num[-2]\n",
        "  sum2=num[0]*num[1]\n",
        "  return max(sum1,sum2)\n"
      ],
      "metadata": {
        "id": "7oaGVMC2kFHz"
      },
      "execution_count": 26,
      "outputs": []
    },
    {
      "cell_type": "code",
      "source": [
        "max_product([1,2,3,4,5])"
      ],
      "metadata": {
        "colab": {
          "base_uri": "https://localhost:8080/"
        },
        "id": "oF2x_Rj5kWwj",
        "outputId": "a7f2f7ee-8dc9-47eb-a289-6ac4f0e007aa"
      },
      "execution_count": 27,
      "outputs": [
        {
          "output_type": "execute_result",
          "data": {
            "text/plain": [
              "20"
            ]
          },
          "metadata": {},
          "execution_count": 27
        }
      ]
    },
    {
      "cell_type": "markdown",
      "source": [
        "Frequency of Characters in String Problem: Given a string, return the character that appears most frequently. If there is a tie, return the lexicographically smallest character."
      ],
      "metadata": {
        "id": "0j4-DqYDkaN6"
      }
    },
    {
      "cell_type": "code",
      "source": [
        "def most_frequent_char(x):\n",
        "  chars={}\n",
        "  for char in x:\n",
        "    if char in chars:\n",
        "      chars[char]+=1\n",
        "    else:\n",
        "      chars[char]=1\n",
        "  frequency=0\n",
        "  character=''\n",
        "  for key,value in chars.items():\n",
        "    if value>frequency:\n",
        "      frequency=value\n",
        "      character=key\n",
        "  return character"
      ],
      "metadata": {
        "id": "dttEgqh1ljvn"
      },
      "execution_count": 28,
      "outputs": []
    },
    {
      "cell_type": "code",
      "source": [
        "most_frequent_char(\"aabbbcc\")"
      ],
      "metadata": {
        "colab": {
          "base_uri": "https://localhost:8080/",
          "height": 35
        },
        "id": "6EUutvACm5oo",
        "outputId": "ae20aff8-de69-44f4-a3cb-814bff4155f2"
      },
      "execution_count": 29,
      "outputs": [
        {
          "output_type": "execute_result",
          "data": {
            "text/plain": [
              "'b'"
            ],
            "application/vnd.google.colaboratory.intrinsic+json": {
              "type": "string"
            }
          },
          "metadata": {},
          "execution_count": 29
        }
      ]
    },
    {
      "cell_type": "markdown",
      "source": [
        "\n",
        "Problem: Write a function that prints all prime numbers less than a given number n."
      ],
      "metadata": {
        "id": "-f6VHw4fm48u"
      }
    },
    {
      "cell_type": "code",
      "source": [
        "def prime_num(x):\n",
        "  for num in range(x):\n",
        "    if num > 1:\n",
        "      for i in range(2, num):\n",
        "        if (num % i) == 0:\n",
        "          break\n",
        "      else:\n",
        "        print(num)"
      ],
      "metadata": {
        "id": "i8xSVqtGbZGJ"
      },
      "execution_count": 11,
      "outputs": []
    },
    {
      "cell_type": "code",
      "source": [
        "prime_num(10)"
      ],
      "metadata": {
        "colab": {
          "base_uri": "https://localhost:8080/"
        },
        "id": "GMhLf7l5bg6c",
        "outputId": "95476dcf-5077-421a-a7cd-214503a819a3"
      },
      "execution_count": 12,
      "outputs": [
        {
          "output_type": "stream",
          "name": "stdout",
          "text": [
            "2\n",
            "3\n",
            "5\n",
            "7\n"
          ]
        }
      ]
    },
    {
      "cell_type": "code",
      "source": [
        "def prime(x):\n",
        "  prime_list=[]\n",
        "  for num in range(x):\n",
        "    if num > 1:\n",
        "      for i in range(2, num):\n",
        "        if (num % i) == 0:\n",
        "          break\n",
        "      else:\n",
        "        prime_list.append(num)\n",
        "  return prime_list"
      ],
      "metadata": {
        "id": "59ClRRvscqez"
      },
      "execution_count": 15,
      "outputs": []
    },
    {
      "cell_type": "code",
      "source": [
        "prime(10)"
      ],
      "metadata": {
        "colab": {
          "base_uri": "https://localhost:8080/"
        },
        "id": "EQlvk5xIc6YE",
        "outputId": "9e26d0af-7fd7-4176-c3ba-8260e43b7b04"
      },
      "execution_count": 16,
      "outputs": [
        {
          "output_type": "execute_result",
          "data": {
            "text/plain": [
              "[2, 3, 5, 7]"
            ]
          },
          "metadata": {},
          "execution_count": 16
        }
      ]
    },
    {
      "cell_type": "markdown",
      "source": [
        "Sum of Variable-Length Arguments Problem: Write a function that takes a variable number of arguments (*args) and returns the sum of all the numbers."
      ],
      "metadata": {
        "id": "PAt1zOpAdtkl"
      }
    },
    {
      "cell_type": "code",
      "source": [
        "def sum_num(*args):\n",
        "  return sum(args)"
      ],
      "metadata": {
        "id": "FR_edC47dvGL"
      },
      "execution_count": 17,
      "outputs": []
    },
    {
      "cell_type": "code",
      "source": [
        "sum_num(1,2,3,4,5)"
      ],
      "metadata": {
        "colab": {
          "base_uri": "https://localhost:8080/"
        },
        "id": "y3Qn-Xind7X7",
        "outputId": "37dc7de3-0617-4f36-e71e-84a26906faeb"
      },
      "execution_count": 19,
      "outputs": [
        {
          "output_type": "execute_result",
          "data": {
            "text/plain": [
              "15"
            ]
          },
          "metadata": {},
          "execution_count": 19
        }
      ]
    },
    {
      "cell_type": "markdown",
      "source": [
        "Find the Student with Highest Score Problem: Given a dictionary of students' names and their scores, write a function that returns the name of the student with the highest score"
      ],
      "metadata": {
        "id": "C1GlMqgDeGu8"
      }
    },
    {
      "cell_type": "code",
      "source": [
        "student_record={\"Sara\":93,\"Kareem\":82,\"Ali\":96}\n",
        "\n",
        "def highest_score(student_record):\n",
        "  score=0\n",
        "  name=\"\"\n",
        "  for key,value in student_record.items():\n",
        "    if value>score:\n",
        "      score=value\n",
        "      name=key\n",
        "  return key\n"
      ],
      "metadata": {
        "id": "PN6O3DDNeJQM"
      },
      "execution_count": 20,
      "outputs": []
    },
    {
      "cell_type": "code",
      "source": [
        "highest_score(student_record)"
      ],
      "metadata": {
        "colab": {
          "base_uri": "https://localhost:8080/",
          "height": 35
        },
        "id": "s0MGNEf5e7nK",
        "outputId": "309bdcf0-f07f-4aaf-a5ea-99a9a76b9fe5"
      },
      "execution_count": 21,
      "outputs": [
        {
          "output_type": "execute_result",
          "data": {
            "text/plain": [
              "'Ali'"
            ],
            "application/vnd.google.colaboratory.intrinsic+json": {
              "type": "string"
            }
          },
          "metadata": {},
          "execution_count": 21
        }
      ]
    },
    {
      "cell_type": "markdown",
      "source": [
        "Apply Lambda to List Problem: Write a function that takes a list of integers and a lambda function, and returns a new list where the lambda function is applied to each element of the list."
      ],
      "metadata": {
        "id": "M0U8OBAkfCu_"
      }
    },
    {
      "cell_type": "code",
      "source": [
        "def  list_function(x):\n",
        "  return list(map(lambda x:x**2,x))\n"
      ],
      "metadata": {
        "id": "MjZAGb8lfU0H"
      },
      "execution_count": 22,
      "outputs": []
    },
    {
      "cell_type": "code",
      "source": [
        "list_function([1,2,3,4,5])"
      ],
      "metadata": {
        "colab": {
          "base_uri": "https://localhost:8080/"
        },
        "id": "HufDDmC8ftM3",
        "outputId": "c5d9fa74-963f-4c83-ca29-a5a6078dc2e9"
      },
      "execution_count": 24,
      "outputs": [
        {
          "output_type": "execute_result",
          "data": {
            "text/plain": [
              "[1, 4, 9, 16, 25]"
            ]
          },
          "metadata": {},
          "execution_count": 24
        }
      ]
    },
    {
      "cell_type": "markdown",
      "source": [
        "Sum or Multiply Based on Keyword Argument Problem: Write a function that takes a variable-length list of numbers (*args) and an optional keyword argument operation. If operation='multiply', return the product of all the numbers; otherwise, return their sum.\n",
        "\n",
        "\n"
      ],
      "metadata": {
        "id": "qPRc-eZwf09n"
      }
    },
    {
      "cell_type": "code",
      "source": [
        "def optional(*args,optional='sum'):\n",
        "  if optional=='multiply':\n",
        "    result=1\n",
        "    for num in args:\n",
        "      result*=num\n",
        "  else:\n",
        "    result=0\n",
        "    for num in args:\n",
        "      result+=num\n",
        "  return result\n"
      ],
      "metadata": {
        "id": "vB28BmJThlxa"
      },
      "execution_count": 26,
      "outputs": []
    },
    {
      "cell_type": "code",
      "source": [
        "optional(1,2,3,4,optional='multiply')"
      ],
      "metadata": {
        "colab": {
          "base_uri": "https://localhost:8080/"
        },
        "id": "_2yL5j7Nh_lI",
        "outputId": "a60a31d9-1eb2-4edb-cefc-c80cbfe192a7"
      },
      "execution_count": 28,
      "outputs": [
        {
          "output_type": "execute_result",
          "data": {
            "text/plain": [
              "24"
            ]
          },
          "metadata": {},
          "execution_count": 28
        }
      ]
    }
  ]
}